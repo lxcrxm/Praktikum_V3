{
 "cells": [
  {
   "cell_type": "code",
   "execution_count": 93,
   "metadata": {},
   "outputs": [],
   "source": [
    "#!pip install numpy\n",
    "#!pip install pandas\n",
    "#!pip install matplotlib\n",
    "#!pip install scipy\n",
    "#!pip install openpyxl\n",
    "\n",
    "#!pip install mathjax\n",
    "\n",
    "\n",
    "import numpy as np\n",
    "import pandas as pd\n",
    "import matplotlib.pyplot as plt\n",
    "\n",
    "from scipy import optimize\n",
    "from scipy import stats\n",
    "\n",
    "import scipy as sp\n",
    "\n",
    "plt.rcParams['text.usetex'] = True"
   ]
  },
  {
   "cell_type": "markdown",
   "metadata": {},
   "source": [
    "### 4.1"
   ]
  },
  {
   "cell_type": "code",
   "execution_count": 94,
   "metadata": {},
   "outputs": [
    {
     "data": {
      "text/plain": [
       "array([[6.00000e+02, 1.27021e+04, 4.30000e+01, 2.00000e+00, 1.88100e+02],\n",
       "       [6.30000e+02, 1.07914e+04, 6.10000e+01, 3.00000e+00, 2.19100e+02],\n",
       "       [6.60000e+02, 8.57500e+03, 8.40000e+01, 4.00000e+00, 9.36000e+01],\n",
       "       [6.90000e+02, 6.53120e+03, 1.17000e+02, 6.00000e+00, 6.50000e+01],\n",
       "       [7.20000e+02, 4.87970e+03, 1.59000e+02, 8.00000e+00, 7.10000e+01],\n",
       "       [7.50000e+02, 3.73720e+03, 2.14000e+02, 1.00000e+01, 6.98000e+01]])"
      ]
     },
     "execution_count": 94,
     "metadata": {},
     "output_type": "execute_result"
    }
   ],
   "source": [
    "A1_UAMuSigmaB = np.array([[600, 12702.1, 43, 2, 188.1], [630, 10791.4, 61, 3, 219.1], [660, 8575.0, 84, 4, 93.6], [690, 6531.2, 117, 6, 65], [720, 4879.7, 159, 8, 71], [750, 3737.2, 214, 10, 69.8]])\n",
    "#U A Mu Sigma B Cs-137\n",
    "\n",
    "\n",
    "A1_UAMuSigmaB"
   ]
  },
  {
   "cell_type": "markdown",
   "metadata": {},
   "source": [
    "### 4.2"
   ]
  },
  {
   "cell_type": "code",
   "execution_count": 95,
   "metadata": {},
   "outputs": [
    {
     "data": {
      "text/plain": [
       "array([ 750. , 3697.2,  215. ,   10. ,   57.4])"
      ]
     },
     "execution_count": 95,
     "metadata": {},
     "output_type": "execute_result"
    }
   ],
   "source": [
    "A2_UAMuSigmaB = np.array([750, 3697.2, 215, 10, 57.4])\n",
    "#U A Mu Sigma B Cs-137\n",
    "A2_UAMuSigmaB "
   ]
  },
  {
   "cell_type": "markdown",
   "metadata": {},
   "source": [
    "### 4.3"
   ]
  },
  {
   "cell_type": "code",
   "execution_count": 96,
   "metadata": {},
   "outputs": [
    {
     "data": {
      "text/plain": [
       "array([[481.7, 215.5],\n",
       "       [967.7, 249.4],\n",
       "       [ 33.8,  24.3],\n",
       "       [ 33.1,  22.1],\n",
       "       [ 33.4,  28. ]])"
      ]
     },
     "execution_count": 96,
     "metadata": {},
     "output_type": "execute_result"
    }
   ],
   "source": [
    "A3_ComptonkanteRückstreulinie = np.array([[481.7, 215.5] #Cs-137\n",
    ", [967.7, 249.4] #Co-60\n",
    ", [33.8, 24.3] #Am-241\n",
    ", [33.1, 22.1] #Sr-90\n",
    ", [33.4, 28]]) #Ra-226\n",
    "\n",
    "A3_ComptonkanteRückstreulinie"
   ]
  },
  {
   "cell_type": "markdown",
   "metadata": {},
   "source": [
    "### 4.4"
   ]
  },
  {
   "cell_type": "code",
   "execution_count": 97,
   "metadata": {},
   "outputs": [
    {
     "data": {
      "text/plain": [
       "array([[19.  , 24.  , 28.  , 29.  , 55.  , 63.  , 65.  , 67.  , 71.  ,\n",
       "        74.  , 77.  ],\n",
       "       [63.17, 52.65, 46.82, 44.23, 12.53, 10.25,  9.28,  8.77,  7.67,\n",
       "         6.74,  6.72]])"
      ]
     },
     "execution_count": 97,
     "metadata": {},
     "output_type": "execute_result"
    }
   ],
   "source": [
    "A4_xNa = np.array([\n",
    "  [29, 24, 19, 28, 74, 63, 55, 77, 71, 67, 65] #Abstand in mm\n",
    ", [4423, 5265, 6317, 4682, 674.0, 1025, 1253, 672.0, 767.0, 877.0, 928.0]] ) # Na pro 100s\n",
    "\n",
    "#Sortieren (nur zur übersicht)\n",
    "A4_xNa[0, :] =  np.sort(A4_xNa[0, :])\n",
    "A4_xNa[1, :] =  np.sort(A4_xNa[1, :])[::-1]\n",
    "\n",
    "A4_xNa[1, :] = A4_xNa[1, :] * 0.01\n",
    "\n",
    "A4_xNa"
   ]
  },
  {
   "cell_type": "code",
   "execution_count": 98,
   "metadata": {},
   "outputs": [],
   "source": [
    "x = np.linspace(0, 95, num = 100)"
   ]
  },
  {
   "cell_type": "code",
   "execution_count": 99,
   "metadata": {},
   "outputs": [
    {
     "name": "stderr",
     "output_type": "stream",
     "text": [
      "C:\\Users\\schle\\AppData\\Local\\Temp/ipykernel_12688/190317884.py:2: RuntimeWarning: divide by zero encountered in true_divide\n",
      "  return A/(x**2) + B\n"
     ]
    },
    {
     "data": {
      "text/plain": [
       "array([2.47496641e+04, 5.17395181e+00])"
      ]
     },
     "execution_count": 99,
     "metadata": {},
     "output_type": "execute_result"
    }
   ],
   "source": [
    "def funcAbstand(x, A, B):\n",
    "    return A/(x**2) + B\n",
    "\n",
    "popt, pcov = optimize.curve_fit(funcAbstand, A4_xNa[0, :], A4_xNa[1, :], p0=(25000, 5))\n",
    "\n",
    "A, B = popt\n",
    "\n",
    "Fit = funcAbstand(x, A, B)\n",
    "\n",
    "popt"
   ]
  },
  {
   "cell_type": "code",
   "execution_count": 100,
   "metadata": {},
   "outputs": [
    {
     "data": {
      "text/plain": [
       "7.916296858291809"
      ]
     },
     "execution_count": 100,
     "metadata": {},
     "output_type": "execute_result"
    }
   ],
   "source": [
    "I0 = funcAbstand(95, A, B)\n",
    "I0"
   ]
  },
  {
   "cell_type": "code",
   "execution_count": 101,
   "metadata": {},
   "outputs": [
    {
     "data": {
      "image/png": "[encoded data removed]",
      "text/plain": [
       "<Figure size 432x288 with 1 Axes>"
      ]
     },
     "metadata": {
      "needs_background": "light"
     },
     "output_type": "display_data"
    }
   ],
   "source": [
    "plt.plot(A4_xNa[0, :], A4_xNa[1, :], 'r*', label = 'Abstand')\n",
    "\n",
    "plt.plot(x, Fit, 'r')\n",
    "\n",
    "plt.legend(fontsize = 12)\n",
    "\n",
    "#plt.text(10, 296, '$T_{1}(t) = 289$ $K + 38,2$ $K \\cdot [1 - exp(- 0,0344$ $min^{-1} \\cdot t )]$', fontsize = 12, color = 'r', rotation = 20) \n",
    "\n",
    "plt.xlabel('$x$ in $mm$', fontsize = 12)\n",
    "plt.ylabel('$I$ in $s^{-1}$', fontsize = 12)\n",
    "\n",
    "plt.xlim([10, 95])\n",
    "plt.ylim([0, 70])\n",
    "\n",
    "plt.savefig('AbstandCs137.png', dpi=300)"
   ]
  },
  {
   "cell_type": "markdown",
   "metadata": {},
   "source": [
    "### 4.5"
   ]
  },
  {
   "cell_type": "code",
   "execution_count": 102,
   "metadata": {},
   "outputs": [
    {
     "data": {
      "text/plain": [
       "array([[  0.46 , 211.   , 320.   ,  27.   ,  26.   ],\n",
       "       [  1.   , 220.   , 214.   ,  26.   ,  22.   ],\n",
       "       [  2.045, 145.   , 103.   ,  26.   ,  13.   ],\n",
       "       [  3.045, 135.   ,  57.   ,  19.   ,  21.   ],\n",
       "       [  4.13 , 111.   ,  42.   ,  18.   ,  17.   ]])"
      ]
     },
     "execution_count": 102,
     "metadata": {},
     "output_type": "execute_result"
    }
   ],
   "source": [
    "A5_DickeCs137Am241Co60Co60 = np.array([[0.46, 211, 320, 27, 26], [1, 220, 214, 26, 22], [2.045, 145, 103, 26, 13], [3.045, 135, 57, 19, 21], [4.130, 111, 42, 18, 17]])\n",
    "#Dicke, Cs-137, Am241, Co-60 bei E=1170 keV, Co-60 bei 1330 keV\n",
    "A5_DickeCs137Am241Co60Co60\t"
   ]
  },
  {
   "cell_type": "code",
   "execution_count": 103,
   "metadata": {},
   "outputs": [
    {
     "data": {
      "text/plain": [
       "array([[0.6290884 , 0.21262554, 2.68510967, 2.72285   ],\n",
       "       [0.58731899, 0.61497052, 2.72285   , 2.88990408],\n",
       "       [1.00421279, 1.34621755, 2.72285   , 3.41599718],\n",
       "       [1.07567176, 1.93789527, 3.03650755, 2.9364241 ],\n",
       "       [1.27141633, 2.24327692, 3.09057478, 3.14773319]])"
      ]
     },
     "execution_count": 103,
     "metadata": {},
     "output_type": "execute_result"
    }
   ],
   "source": [
    "A5_DickeCs137Am241Co60Co60[:, 1::] = A5_DickeCs137Am241Co60Co60[:, 1::] * 0.02\n",
    "\n",
    "ln_Cs137Am241Co60Co60 =  np.log(I0 / A5_DickeCs137Am241Co60Co60[:, 1::])\n",
    "ln_Cs137Am241Co60Co60"
   ]
  },
  {
   "cell_type": "code",
   "execution_count": 104,
   "metadata": {},
   "outputs": [],
   "source": [
    "\n",
    "Massenabs_Cs137 = sp.stats.linregress(A5_DickeCs137Am241Co60Co60[:, 0], ln_Cs137Am241Co60Co60[:, 0]) #Cs-137\n",
    "Massenabs_Am214 = sp.stats.linregress(A5_DickeCs137Am241Co60Co60[:, 0], ln_Cs137Am241Co60Co60[:, 1]) #Am214\n",
    "Massenabs_Co60_1 = sp.stats.linregress(A5_DickeCs137Am241Co60Co60[:, 0], ln_Cs137Am241Co60Co60[:, 2]) #Co-60\n",
    "Massenabs_Co60_2 = sp.stats.linregress(A5_DickeCs137Am241Co60Co60[:, 0], ln_Cs137Am241Co60Co60[:, 3]) #Co-60\n",
    "#res.slope, res.intercept"
   ]
  },
  {
   "cell_type": "code",
   "execution_count": 105,
   "metadata": {},
   "outputs": [],
   "source": [
    "x = np.linspace(0, 5, num = 50)"
   ]
  },
  {
   "cell_type": "code",
   "execution_count": 108,
   "metadata": {},
   "outputs": [
    {
     "data": {
      "image/png": "[encoded data removed]",
      "text/plain": [
       "<Figure size 432x288 with 1 Axes>"
      ]
     },
     "metadata": {
      "needs_background": "light"
     },
     "output_type": "display_data"
    }
   ],
   "source": [
    "plt.plot(A5_DickeCs137Am241Co60Co60[:, 0], ln_Cs137Am241Co60Co60[:, 0], 'r*', label = 'Cs-137')\n",
    "plt.plot(A5_DickeCs137Am241Co60Co60[:, 0], ln_Cs137Am241Co60Co60[:, 1], 'b*', label = 'Am214')\n",
    "plt.plot(A5_DickeCs137Am241Co60Co60[:, 0], ln_Cs137Am241Co60Co60[:, 2], 'g*', label = 'Co60')\n",
    "plt.plot(A5_DickeCs137Am241Co60Co60[:, 0], ln_Cs137Am241Co60Co60[:, 3], 'y*', label = 'Co60')\n",
    "\n",
    "plt.plot(x, Massenabs_Cs137.intercept + Massenabs_Cs137.slope*x, '-r', label = 'Regressionsgerade Cs-137')\n",
    "plt.plot(x, Massenabs_Am214.intercept + Massenabs_Am214.slope*x, '-b', label = 'Regressionsgerade Am214')\n",
    "plt.plot(x, Massenabs_Co60_1.intercept + Massenabs_Co60_1.slope*x, '-g', label = 'Regressionsgerade Co60')\n",
    "plt.plot(x, Massenabs_Co60_2.intercept + Massenabs_Co60_2.slope*x, '-y', label = 'Regressionsgerade Co60')\n",
    "\n",
    "#plt.plot(x, Fit, 'r')\n",
    "\n",
    "plt.legend(fontsize = 12)\n",
    "\n",
    "#plt.text(10, 296, '$T_{1}(t) = 289$ $K + 38,2$ $K \\cdot [1 - exp(- 0,0344$ $min^{-1} \\cdot t )]$', fontsize = 12, color = 'r', rotation = 20) \n",
    "\n",
    "plt.xlabel('$d$ in $mm$', fontsize = 12)\n",
    "plt.ylabel('$ln(I_{0}/I)$ in $s^{-1}$', fontsize = 12)\n",
    "\n",
    "plt.xlim([0, 5])\n",
    "plt.ylim([0, 3.5])\n",
    "\n",
    "plt.savefig('Massenabsorptionskoeffizienten.png', dpi=300)"
   ]
  }
 ],
 "metadata": {
  "interpreter": {
   "hash": "55abab3b77440d4202a55cb400c4d9677761b4692ce0e0f0186021dc6eb28758"
  },
  "kernelspec": {
   "display_name": "Python 3.9.7 ('base')",
   "language": "python",
   "name": "python3"
  },
  "language_info": {
   "codemirror_mode": {
    "name": "ipython",
    "version": 3
   },
   "file_extension": ".py",
   "mimetype": "text/x-python",
   "name": "python",
   "nbconvert_exporter": "python",
   "pygments_lexer": "ipython3",
   "version": "3.9.7"
  },
  "orig_nbformat": 4
 },
 "nbformat": 4,
 "nbformat_minor": 2
}
