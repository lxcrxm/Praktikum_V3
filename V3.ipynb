{
 "cells": [
  {
   "cell_type": "code",
   "execution_count": 26,
   "metadata": {},
   "outputs": [],
   "source": [
    "#!pip install numpy\n",
    "#!pip install pandas\n",
    "#!pip install matplotlib\n",
    "#!pip install scipy\n",
    "#!pip install openpyxl\n",
    "\n",
    "#!pip install mathjax\n",
    "\n",
    "\n",
    "import numpy as np\n",
    "import pandas as pd\n",
    "import matplotlib.pyplot as plt\n",
    "import matplotlib.colors as mcolors\n",
    "\n",
    "from scipy import optimize\n",
    "from scipy import stats\n",
    "\n",
    "import scipy as sp\n",
    "\n",
    "plt.rcParams['text.usetex'] = True"
   ]
  },
  {
   "cell_type": "markdown",
   "metadata": {},
   "source": [
    "## 4.1"
   ]
  },
  {
   "cell_type": "markdown",
   "metadata": {},
   "source": [
    "#### aus PC"
   ]
  },
  {
   "cell_type": "code",
   "execution_count": 27,
   "metadata": {},
   "outputs": [
    {
     "data": {
      "text/plain": [
       "array([[6.00000e+02, 1.27021e+04, 4.30000e+01, 2.00000e+00, 1.88100e+02],\n",
       "       [6.30000e+02, 1.07914e+04, 6.10000e+01, 3.00000e+00, 2.19100e+02],\n",
       "       [6.60000e+02, 8.57500e+03, 8.40000e+01, 4.00000e+00, 9.36000e+01],\n",
       "       [6.90000e+02, 6.53120e+03, 1.17000e+02, 6.00000e+00, 6.50000e+01],\n",
       "       [7.20000e+02, 4.87970e+03, 1.59000e+02, 8.00000e+00, 7.10000e+01],\n",
       "       [7.50000e+02, 3.73720e+03, 2.14000e+02, 1.00000e+01, 6.98000e+01]])"
      ]
     },
     "execution_count": 27,
     "metadata": {},
     "output_type": "execute_result"
    }
   ],
   "source": [
    "A1_UAMuSigmaB = np.array([[600, 12702.1, 43, 2, 188.1], [630, 10791.4, 61, 3, 219.1], [660, 8575.0, 84, 4, 93.6], [690, 6531.2, 117, 6, 65], [720, 4879.7, 159, 8, 71], [750, 3737.2, 214, 10, 69.8]])\n",
    "#U A Mu Sigma B Cs-137\n",
    "\n",
    "U_DF = pd.DataFrame(np.transpose(A1_UAMuSigmaB[:,0]))\n",
    "A1_UAMuSigmaB"
   ]
  },
  {
   "cell_type": "code",
   "execution_count": 28,
   "metadata": {},
   "outputs": [],
   "source": [
    "def funca(A, Mu, Sigma, B):\n",
    "    h = (A + B) / 2\n",
    "    func = lambda x : A * np.exp(-(x-Mu)**2 / (2 * Sigma**2)) + B - h\n",
    "    guess = Mu + 3\n",
    "    aussen = optimize.fsolve(func, guess)\n",
    "    return 2 * np.abs(Mu - aussen)"
   ]
  },
  {
   "cell_type": "code",
   "execution_count": 29,
   "metadata": {},
   "outputs": [
    {
     "data": {
      "text/plain": [
       "(      0\n",
       " 0   4.7\n",
       " 1   7.0\n",
       " 2   9.4\n",
       " 3  14.1\n",
       " 4  18.8\n",
       " 5  23.5,\n",
       "        0\n",
       " 0   43.0\n",
       " 1   61.0\n",
       " 2   84.0\n",
       " 3  117.0\n",
       " 4  159.0\n",
       " 5  214.0)"
      ]
     },
     "execution_count": 29,
     "metadata": {},
     "output_type": "execute_result"
    }
   ],
   "source": [
    "a_digital = np.zeros(6)\n",
    "for i in range(0, 6): \n",
    "    #a_digital[i] = funca(A1_UAMuSigmaB[i, 1], A1_UAMuSigmaB[i, 2], A1_UAMuSigmaB[i, 3], A1_UAMuSigmaB[i, 4])\n",
    "    a_digital[i] = 2.35 * A1_UAMuSigmaB[i, 3]\n",
    "\n",
    "a_digital_DF = pd.DataFrame(np.round(np.transpose(a_digital), 1))\n",
    "b_digital_DF = pd.DataFrame(np.round(A1_UAMuSigmaB[:,2], 1))\n",
    "a_digital_DF, b_digital_DF"
   ]
  },
  {
   "cell_type": "code",
   "execution_count": 30,
   "metadata": {},
   "outputs": [],
   "source": [
    "x = np.linspace(0, 500, 500)"
   ]
  },
  {
   "cell_type": "code",
   "execution_count": 31,
   "metadata": {},
   "outputs": [
    {
     "data": {
      "image/png": "[encoded data removed]",
      "text/plain": [
       "<Figure size 432x288 with 1 Axes>"
      ]
     },
     "metadata": {
      "needs_background": "light"
     },
     "output_type": "display_data"
    }
   ],
   "source": [
    "plt.plot(x, A1_UAMuSigmaB[0, 1] * np.exp(-(x-A1_UAMuSigmaB[0, 2])**2 / (2 *  A1_UAMuSigmaB[0, 3]**2)) + A1_UAMuSigmaB[0, 4], label = '600 $V$' )\n",
    "plt.plot(x, A1_UAMuSigmaB[1, 1] * np.exp(-(x-A1_UAMuSigmaB[1, 2])**2 / (2 *  A1_UAMuSigmaB[1, 3]**2)) + A1_UAMuSigmaB[1, 4], label = '630 $V$' )\n",
    "plt.plot(x, A1_UAMuSigmaB[2, 1] * np.exp(-(x-A1_UAMuSigmaB[2, 2])**2 / (2 *  A1_UAMuSigmaB[2, 3]**2)) + A1_UAMuSigmaB[2, 4], label = '660 $V$' )\n",
    "plt.plot(x, A1_UAMuSigmaB[3, 1] * np.exp(-(x-A1_UAMuSigmaB[3, 2])**2 / (2 *  A1_UAMuSigmaB[3, 3]**2)) + A1_UAMuSigmaB[3, 4], label = '690 $V$' )\n",
    "plt.plot(x, A1_UAMuSigmaB[4, 1] * np.exp(-(x-A1_UAMuSigmaB[4, 2])**2 / (2 *  A1_UAMuSigmaB[4, 3]**2)) + A1_UAMuSigmaB[4, 4], label = '720 $V$' )\n",
    "plt.plot(x, A1_UAMuSigmaB[5, 1] * np.exp(-(x-A1_UAMuSigmaB[5, 2])**2 / (2 *  A1_UAMuSigmaB[5, 3]**2)) + A1_UAMuSigmaB[5, 4], label = '750 $V$' )\n",
    "\n",
    "plt.legend(fontsize = 12)\n",
    "\n",
    "plt.xlabel('N in PLATZHALTER', fontsize = 12)\n",
    "plt.ylabel('n in $s^{-1}$', fontsize = 12)\n",
    "\n",
    "plt.ylim([0, 13200])\n",
    "plt.xlim([30, 250])\n",
    "\n",
    "plt.savefig('Cs137 Spannung.png', dpi=300)"
   ]
  },
  {
   "cell_type": "code",
   "execution_count": 32,
   "metadata": {},
   "outputs": [
    {
     "data": {
      "text/plain": [
       "(array([[ 0.71674328,  0.90266   ,  1.02562408,  1.30354546,  1.49093698,\n",
       "          1.60642693],\n",
       "        [10.93023256, 11.55737705, 11.19047619, 12.05128205, 11.82389937,\n",
       "         10.98130841]]),\n",
       "      0     1\n",
       " 0  0.7  10.9\n",
       " 1  0.9  11.6\n",
       " 2  1.0  11.2\n",
       " 3  1.3  12.1\n",
       " 4  1.5  11.8\n",
       " 5  1.6  11.0)"
      ]
     },
     "execution_count": 32,
     "metadata": {},
     "output_type": "execute_result"
    }
   ],
   "source": [
    "KR_digital = np.zeros([2,6]) # np.zeros([3,6]) \n",
    "\n",
    "for i in range(0, 6):\n",
    "    KR_digital[0, i] = a_digital[i] / np.sqrt(A1_UAMuSigmaB[i, 2])\n",
    "    KR_digital[1, i] = KR_digital[0,i] / np.sqrt(A1_UAMuSigmaB[i, 2]) *100 #Prozent\n",
    "    #KR_digital[2, i] = a_digital[i] / A1_UAMuSigmaB[i, 2] *100 #Prozent\n",
    "\n",
    "KR_Digital_DF = pd.DataFrame(np.round(np.transpose(KR_digital), 1))\n",
    "KR_digital, KR_Digital_DF"
   ]
  },
  {
   "cell_type": "markdown",
   "metadata": {},
   "source": [
    "### Grafisch"
   ]
  },
  {
   "cell_type": "code",
   "execution_count": 33,
   "metadata": {},
   "outputs": [
    {
     "data": {
      "text/html": [
       "<div>\n",
       "<style scoped>\n",
       "    .dataframe tbody tr th:only-of-type {\n",
       "        vertical-align: middle;\n",
       "    }\n",
       "\n",
       "    .dataframe tbody tr th {\n",
       "        vertical-align: top;\n",
       "    }\n",
       "\n",
       "    .dataframe thead th {\n",
       "        text-align: right;\n",
       "    }\n",
       "</style>\n",
       "<table border=\"1\" class=\"dataframe\">\n",
       "  <thead>\n",
       "    <tr style=\"text-align: right;\">\n",
       "      <th></th>\n",
       "      <th>0</th>\n",
       "      <th>1</th>\n",
       "    </tr>\n",
       "  </thead>\n",
       "  <tbody>\n",
       "    <tr>\n",
       "      <th>0</th>\n",
       "      <td>0.3</td>\n",
       "      <td>2.8</td>\n",
       "    </tr>\n",
       "    <tr>\n",
       "      <th>1</th>\n",
       "      <td>0.4</td>\n",
       "      <td>4.0</td>\n",
       "    </tr>\n",
       "    <tr>\n",
       "      <th>2</th>\n",
       "      <td>0.5</td>\n",
       "      <td>5.5</td>\n",
       "    </tr>\n",
       "    <tr>\n",
       "      <th>3</th>\n",
       "      <td>0.6</td>\n",
       "      <td>7.6</td>\n",
       "    </tr>\n",
       "    <tr>\n",
       "      <th>4</th>\n",
       "      <td>1.0</td>\n",
       "      <td>10.3</td>\n",
       "    </tr>\n",
       "    <tr>\n",
       "      <th>5</th>\n",
       "      <td>1.4</td>\n",
       "      <td>13.9</td>\n",
       "    </tr>\n",
       "  </tbody>\n",
       "</table>\n",
       "</div>"
      ],
      "text/plain": [
       "     0     1\n",
       "0  0.3   2.8\n",
       "1  0.4   4.0\n",
       "2  0.5   5.5\n",
       "3  0.6   7.6\n",
       "4  1.0  10.3\n",
       "5  1.4  13.9"
      ]
     },
     "execution_count": 33,
     "metadata": {},
     "output_type": "execute_result"
    }
   ],
   "source": [
    "ab_grafisch = np.array([[0.3,0.4,0.5,0.6,1,1.4], [2.8, 4.0, 5.5, 7.6, 10.3, 13.9]])\n",
    "\n",
    "KR_grafisch = np.zeros([2,6]) # np.zeros([3,6]) \n",
    "\n",
    "for i in range(0, 6):\n",
    "    KR_grafisch[0, i] = ab_grafisch[0, i] / np.sqrt(ab_grafisch[1, i])\n",
    "    KR_grafisch[1, i] = KR_grafisch[0 ,i] / np.sqrt(ab_grafisch[1, i]) *100 #Prozent\n",
    "    #KR_grafisch[2, i] = ab_grafisch[0 ,i] / ab_grafisch[1, i] *100 #Prozent\n",
    "\n",
    "KR_grafisch, ab_grafisch\n",
    "ab_grafisch_DF = pd.DataFrame(np.round(np.transpose(ab_grafisch), 1))\n",
    "KR_grafisch_DF = pd.DataFrame(np.round(np.transpose(KR_grafisch), 1))\n",
    "ab_grafisch_DF\n"
   ]
  },
  {
   "cell_type": "markdown",
   "metadata": {},
   "source": [
    "### Vergleich"
   ]
  },
  {
   "cell_type": "code",
   "execution_count": 34,
   "metadata": {},
   "outputs": [
    {
     "data": {
      "image/png": "[encoded data removed]",
      "text/plain": [
       "<Figure size 432x288 with 1 Axes>"
      ]
     },
     "metadata": {
      "needs_background": "light"
     },
     "output_type": "display_data"
    }
   ],
   "source": [
    "plt.plot(A1_UAMuSigmaB[:, 0], KR_digital[1, :] ,'*', label = 'Digitale Auswertung' )\n",
    "plt.plot(A1_UAMuSigmaB[:, 0], KR_grafisch[1, :] , '*', label = 'Grafische Auswertung' )\n",
    "\n",
    "\n",
    "plt.legend(fontsize = 12)\n",
    "\n",
    "plt.xlabel('U in $V$', fontsize = 12)\n",
    "plt.ylabel('R in $\\%$', fontsize = 12)\n",
    "\n",
    "#values = ['A', 'B', 'C', 'D','E','F'] \n",
    "\n",
    "plt.xticks(A1_UAMuSigmaB[:, 0])\n",
    "\n",
    "#plt.ylim([0, 13000])\n",
    "#plt.xlim([0, 250])\n",
    "\n",
    "plt.savefig('Vergleich.png', dpi=300)"
   ]
  },
  {
   "cell_type": "code",
   "execution_count": 35,
   "metadata": {},
   "outputs": [
    {
     "data": {
      "text/html": [
       "<div>\n",
       "<style scoped>\n",
       "    .dataframe tbody tr th:only-of-type {\n",
       "        vertical-align: middle;\n",
       "    }\n",
       "\n",
       "    .dataframe tbody tr th {\n",
       "        vertical-align: top;\n",
       "    }\n",
       "\n",
       "    .dataframe thead th {\n",
       "        text-align: right;\n",
       "    }\n",
       "</style>\n",
       "<table border=\"1\" class=\"dataframe\">\n",
       "  <thead>\n",
       "    <tr style=\"text-align: right;\">\n",
       "      <th></th>\n",
       "      <th>0</th>\n",
       "      <th>0</th>\n",
       "      <th>0</th>\n",
       "      <th>0</th>\n",
       "      <th>1</th>\n",
       "      <th>0</th>\n",
       "      <th>1</th>\n",
       "      <th>0</th>\n",
       "      <th>1</th>\n",
       "    </tr>\n",
       "  </thead>\n",
       "  <tbody>\n",
       "    <tr>\n",
       "      <th>0</th>\n",
       "      <td>600.0</td>\n",
       "      <td>4.7</td>\n",
       "      <td>43.0</td>\n",
       "      <td>0.7</td>\n",
       "      <td>10.9</td>\n",
       "      <td>0.3</td>\n",
       "      <td>2.8</td>\n",
       "      <td>0.2</td>\n",
       "      <td>10.7</td>\n",
       "    </tr>\n",
       "    <tr>\n",
       "      <th>1</th>\n",
       "      <td>630.0</td>\n",
       "      <td>7.0</td>\n",
       "      <td>61.0</td>\n",
       "      <td>0.9</td>\n",
       "      <td>11.6</td>\n",
       "      <td>0.4</td>\n",
       "      <td>4.0</td>\n",
       "      <td>0.2</td>\n",
       "      <td>10.0</td>\n",
       "    </tr>\n",
       "    <tr>\n",
       "      <th>2</th>\n",
       "      <td>660.0</td>\n",
       "      <td>9.4</td>\n",
       "      <td>84.0</td>\n",
       "      <td>1.0</td>\n",
       "      <td>11.2</td>\n",
       "      <td>0.5</td>\n",
       "      <td>5.5</td>\n",
       "      <td>0.2</td>\n",
       "      <td>9.1</td>\n",
       "    </tr>\n",
       "    <tr>\n",
       "      <th>3</th>\n",
       "      <td>690.0</td>\n",
       "      <td>14.1</td>\n",
       "      <td>117.0</td>\n",
       "      <td>1.3</td>\n",
       "      <td>12.1</td>\n",
       "      <td>0.6</td>\n",
       "      <td>7.6</td>\n",
       "      <td>0.2</td>\n",
       "      <td>7.9</td>\n",
       "    </tr>\n",
       "    <tr>\n",
       "      <th>4</th>\n",
       "      <td>720.0</td>\n",
       "      <td>18.8</td>\n",
       "      <td>159.0</td>\n",
       "      <td>1.5</td>\n",
       "      <td>11.8</td>\n",
       "      <td>1.0</td>\n",
       "      <td>10.3</td>\n",
       "      <td>0.3</td>\n",
       "      <td>9.7</td>\n",
       "    </tr>\n",
       "    <tr>\n",
       "      <th>5</th>\n",
       "      <td>750.0</td>\n",
       "      <td>23.5</td>\n",
       "      <td>214.0</td>\n",
       "      <td>1.6</td>\n",
       "      <td>11.0</td>\n",
       "      <td>1.4</td>\n",
       "      <td>13.9</td>\n",
       "      <td>0.4</td>\n",
       "      <td>10.1</td>\n",
       "    </tr>\n",
       "  </tbody>\n",
       "</table>\n",
       "</div>"
      ],
      "text/plain": [
       "       0     0      0    0     1    0     1    0     1\n",
       "0  600.0   4.7   43.0  0.7  10.9  0.3   2.8  0.2  10.7\n",
       "1  630.0   7.0   61.0  0.9  11.6  0.4   4.0  0.2  10.0\n",
       "2  660.0   9.4   84.0  1.0  11.2  0.5   5.5  0.2   9.1\n",
       "3  690.0  14.1  117.0  1.3  12.1  0.6   7.6  0.2   7.9\n",
       "4  720.0  18.8  159.0  1.5  11.8  1.0  10.3  0.3   9.7\n",
       "5  750.0  23.5  214.0  1.6  11.0  1.4  13.9  0.4  10.1"
      ]
     },
     "execution_count": 35,
     "metadata": {},
     "output_type": "execute_result"
    }
   ],
   "source": [
    "Export_1 = pd.concat([ U_DF , a_digital_DF , b_digital_DF , KR_Digital_DF , ab_grafisch_DF , KR_grafisch_DF],axis = 1, sort = False )\n",
    "Export_1.to_csv('41.csv',index=False)\n",
    "Export_1"
   ]
  },
  {
   "cell_type": "markdown",
   "metadata": {},
   "source": [
    "## 4.2"
   ]
  },
  {
   "cell_type": "code",
   "execution_count": 36,
   "metadata": {},
   "outputs": [
    {
     "data": {
      "text/plain": [
       "array([ 750. , 3697.2,  215. ,   10. ,   57.4])"
      ]
     },
     "execution_count": 36,
     "metadata": {},
     "output_type": "execute_result"
    }
   ],
   "source": [
    "A2_UAMuSigmaB = np.array([750, 3697.2, 215, 10, 57.4])\n",
    "#U A Mu Sigma B Cs-137\n",
    "A2_UAMuSigmaB "
   ]
  },
  {
   "cell_type": "markdown",
   "metadata": {},
   "source": [
    "## 4.3"
   ]
  },
  {
   "cell_type": "code",
   "execution_count": 37,
   "metadata": {},
   "outputs": [
    {
     "data": {
      "text/plain": [
       "array([[481.7, 215.5],\n",
       "       [967.7, 249.4],\n",
       "       [ 33.8,  24.3],\n",
       "       [ 33.1,  22.1],\n",
       "       [ 33.4,  28. ]])"
      ]
     },
     "execution_count": 37,
     "metadata": {},
     "output_type": "execute_result"
    }
   ],
   "source": [
    "A3_ComptonkanteRückstreulinie = np.array([[481.7, 215.5] #Cs-137\n",
    ", [967.7, 249.4] #Co-60\n",
    ", [33.8, 24.3] #Am-241\n",
    ", [33.1, 22.1] #Sr-90\n",
    ", [33.4, 28]]) #Ra-226\n",
    "\n",
    "A3_ComptonkanteRückstreulinie"
   ]
  },
  {
   "cell_type": "markdown",
   "metadata": {},
   "source": [
    "## 4.4"
   ]
  },
  {
   "cell_type": "code",
   "execution_count": 38,
   "metadata": {},
   "outputs": [
    {
     "data": {
      "text/plain": [
       "array([[19.  , 24.  , 28.  , 29.  , 55.  , 63.  , 65.  , 67.  , 71.  ,\n",
       "        74.  , 77.  ],\n",
       "       [63.17, 52.65, 46.82, 44.23, 12.53, 10.25,  9.28,  8.77,  7.67,\n",
       "         6.74,  6.72]])"
      ]
     },
     "execution_count": 38,
     "metadata": {},
     "output_type": "execute_result"
    }
   ],
   "source": [
    "A4_xNa = np.array([\n",
    "  [29, 24, 19, 28, 74, 63, 55, 77, 71, 67, 65] #Abstand in mm\n",
    ", [4423, 5265, 6317, 4682, 674.0, 1025, 1253, 672.0, 767.0, 877.0, 928.0]] ) # Na pro 100s\n",
    "\n",
    "#Sortieren (nur zur übersicht)\n",
    "A4_xNa[0, :] =  np.sort(A4_xNa[0, :])\n",
    "A4_xNa[1, :] =  np.sort(A4_xNa[1, :])[::-1]\n",
    "\n",
    "A4_xNa[1, :] = A4_xNa[1, :] * 0.01\n",
    "\n",
    "A4_xNa"
   ]
  },
  {
   "cell_type": "code",
   "execution_count": 39,
   "metadata": {},
   "outputs": [],
   "source": [
    "x = np.linspace(0, 95, num = 100)"
   ]
  },
  {
   "cell_type": "code",
   "execution_count": 40,
   "metadata": {},
   "outputs": [
    {
     "name": "stderr",
     "output_type": "stream",
     "text": [
      "C:\\Users\\schle\\AppData\\Local\\Temp/ipykernel_14308/2252598128.py:2: RuntimeWarning: divide by zero encountered in true_divide\n",
      "  return A/(x**2) + B\n"
     ]
    },
    {
     "data": {
      "text/plain": [
       "array([2.47496643e+04, 5.17395152e+00])"
      ]
     },
     "execution_count": 40,
     "metadata": {},
     "output_type": "execute_result"
    }
   ],
   "source": [
    "def funcAbstand(x, A, B):\n",
    "    return A/(x**2) + B\n",
    "\n",
    "popt, pcov = optimize.curve_fit(funcAbstand, A4_xNa[0, :], A4_xNa[1, :], p0=(2222, 7))\n",
    "\n",
    "A, B = popt\n",
    "\n",
    "Fit = funcAbstand(x, A, B)\n",
    "\n",
    "popt"
   ]
  },
  {
   "cell_type": "code",
   "execution_count": 41,
   "metadata": {},
   "outputs": [
    {
     "data": {
      "text/plain": [
       "7.916296585652241"
      ]
     },
     "execution_count": 41,
     "metadata": {},
     "output_type": "execute_result"
    }
   ],
   "source": [
    "I0 = funcAbstand(95, A, B)\n",
    "I0"
   ]
  },
  {
   "cell_type": "code",
   "execution_count": 42,
   "metadata": {},
   "outputs": [
    {
     "data": {
      "text/plain": [
       "(None, 24749.664258083405)"
      ]
     },
     "execution_count": 42,
     "metadata": {},
     "output_type": "execute_result"
    },
    {
     "data": {
      "image/png": "[encoded data removed]",
      "text/plain": [
       "<Figure size 432x288 with 1 Axes>"
      ]
     },
     "metadata": {
      "needs_background": "light"
     },
     "output_type": "display_data"
    }
   ],
   "source": [
    "plt.plot(A4_xNa[0, :], A4_xNa[1, :], 'r*', label = 'Abstand')\n",
    "\n",
    "plt.plot(x, Fit, 'r')\n",
    "\n",
    "plt.legend(fontsize = 12)\n",
    "\n",
    "#plt.text(10, 296, '$T_{1}(t) = 289$ $K + 38,2$ $K \\cdot [1 - exp(- 0,0344$ $min^{-1} \\cdot t )]$', fontsize = 12, color = 'r', rotation = 20) \n",
    "\n",
    "plt.xlabel('$x$ in $mm$', fontsize = 12)\n",
    "plt.ylabel('$I$ in $s^{-1}$', fontsize = 12)\n",
    "\n",
    "plt.xlim([10, 95])\n",
    "plt.ylim([0, 70])\n",
    "\n",
    "plt.savefig('AbstandCs137.png', dpi=300), A"
   ]
  },
  {
   "cell_type": "code",
   "execution_count": 43,
   "metadata": {},
   "outputs": [
    {
     "data": {
      "text/plain": [
       "(-4.219927493952589,\n",
       " 209.4235108858896,\n",
       " array([0.12581852, 0.13781637, 0.14614511, 0.15036319, 0.28250391,\n",
       "        0.31234752, 0.32826608, 0.33767601, 0.36107907, 0.38518561,\n",
       "        0.38575837]))"
      ]
     },
     "execution_count": 43,
     "metadata": {},
     "output_type": "execute_result"
    }
   ],
   "source": [
    "Wurzel = 1 / np.sqrt(A4_xNa[1, :])\n",
    "\n",
    "\n",
    "\n",
    "Abstandsgerade = sp.stats.linregress(Wurzel, A4_xNa[0, :]) #Cs-137\n",
    "\n",
    "Wurzel_DF = pd.DataFrame(np.round((Wurzel), 3))\n",
    "Abstandsgerade.intercept, Abstandsgerade.slope, Wurzel"
   ]
  },
  {
   "cell_type": "code",
   "execution_count": 44,
   "metadata": {},
   "outputs": [
    {
     "data": {
      "text/plain": [
       "(None, 0.06910146931971234)"
      ]
     },
     "execution_count": 44,
     "metadata": {},
     "output_type": "execute_result"
    },
    {
     "data": {
      "image/png": "[encoded data removed]",
      "text/plain": [
       "<Figure size 432x288 with 1 Axes>"
      ]
     },
     "metadata": {
      "needs_background": "light"
     },
     "output_type": "display_data"
    }
   ],
   "source": [
    "x = np.linspace(0.1, 0.4, num = 50)\n",
    "plt.plot(Wurzel, A4_xNa[0, :], 'r*', label = 'Messpunkte')\n",
    "\n",
    "plt.plot(x, Abstandsgerade.intercept + Abstandsgerade.slope*x, '-b', label = 'Regressionsgerade')\n",
    "\n",
    "#plt.plot(x, Abstandsgera, 'r', label = 'Regressionsgerade Cs-137')\n",
    "\n",
    "plt.legend(fontsize = 12)\n",
    "\n",
    "plt.text(0.2, 20, '$d =209,4$ $mm \\cdot s^{2} \\cdot N^{-1/2} - 4,2$ $mm$', fontsize = 12, color = 'b') \n",
    "\n",
    "plt.ylabel('$d$ in $mm$', fontsize = 12)\n",
    "plt.xlabel('$N^{-1/2}$ in $s^{-1/2}$', fontsize = 12)\n",
    "\n",
    "#plt.xlim([0, 5])\n",
    "#plt.ylim([10, 95])\n",
    "\n",
    "\n",
    "plt.savefig('Abstandsgerade.png', dpi=300), Abstandsgerade.slope**(-1/2)"
   ]
  },
  {
   "cell_type": "code",
   "execution_count": 45,
   "metadata": {},
   "outputs": [
    {
     "data": {
      "text/plain": [
       "2.2800749743637652e-05"
      ]
     },
     "execution_count": 45,
     "metadata": {},
     "output_type": "execute_result"
    },
    {
     "data": {
      "image/png": "[encoded data removed]",
      "text/plain": [
       "<Figure size 432x288 with 1 Axes>"
      ]
     },
     "metadata": {
      "needs_background": "light"
     },
     "output_type": "display_data"
    }
   ],
   "source": [
    "x = np.linspace(0, 95, num = 100)\n",
    "\n",
    "plt.plot(A4_xNa[0, :], A4_xNa[1, :], 'r*', label = 'Abstand')\n",
    "\n",
    "plt.plot(x, (Abstandsgerade.intercept + Abstandsgerade.slope*x)**(-2), 'r', )\n",
    "\n",
    "plt.legend(fontsize = 12)\n",
    "\n",
    "#plt.text(10, 296, '$T_{1}(t) = 289$ $K + 38,2$ $K \\cdot [1 - exp(- 0,0344$ $min^{-1} \\cdot t )]$', fontsize = 12, color = 'r', rotation = 20) \n",
    "\n",
    "plt.xlabel('$x$ in $mm$', fontsize = 12)\n",
    "plt.ylabel('$I$ in $s^{-1}$', fontsize = 12)\n",
    "\n",
    "plt.xlim([10, 95])\n",
    "plt.ylim([0, 70])\n",
    "\n",
    "plt.savefig('AbstandCs137V2.png', dpi=300)\n",
    "\n",
    "Abstandsgerade.slope**(-2)"
   ]
  },
  {
   "cell_type": "markdown",
   "metadata": {},
   "source": [
    "## 4.5"
   ]
  },
  {
   "cell_type": "code",
   "execution_count": 46,
   "metadata": {},
   "outputs": [
    {
     "data": {
      "text/plain": [
       "array([[  0.46 , 211.   , 320.   ,  27.   ,  26.   ],\n",
       "       [  1.   , 220.   , 214.   ,  26.   ,  22.   ],\n",
       "       [  2.045, 145.   , 103.   ,  26.   ,  13.   ],\n",
       "       [  3.045, 135.   ,  57.   ,  19.   ,  21.   ],\n",
       "       [  4.13 , 111.   ,  42.   ,  18.   ,  17.   ]])"
      ]
     },
     "execution_count": 46,
     "metadata": {},
     "output_type": "execute_result"
    }
   ],
   "source": [
    "A5_DickeCs137Am241Co60Co60 = np.array([[0.46, 211, 320, 27, 26], [1, 220, 214, 26, 22], [2.045, 145, 103, 26, 13], [3.045, 135, 57, 19, 21], [4.130, 111, 42, 18, 17]])\n",
    "#Dicke, Cs-137, Am241, Co-60 bei E=1170 keV, Co-60 bei 1330 keV\n",
    "A5_DickeCs137Am241Co60Co60\t"
   ]
  },
  {
   "cell_type": "code",
   "execution_count": 47,
   "metadata": {},
   "outputs": [
    {
     "data": {
      "text/plain": [
       "array([[0.62908837, 0.2126255 , 2.68510963, 2.72284996],\n",
       "       [0.58731895, 0.61497048, 2.72284996, 2.88990405],\n",
       "       [1.00421276, 1.34621751, 2.72284996, 3.41599714],\n",
       "       [1.07567172, 1.93789523, 3.03650752, 2.93642406],\n",
       "       [1.2714163 , 2.24327688, 3.09057474, 3.14773316]])"
      ]
     },
     "execution_count": 47,
     "metadata": {},
     "output_type": "execute_result"
    }
   ],
   "source": [
    "A5_DickeCs137Am241Co60Co60[:, 1::] = A5_DickeCs137Am241Co60Co60[:, 1::] * 0.02\n",
    "\n",
    "ln_Cs137Am241Co60Co60 =  np.log(I0 / A5_DickeCs137Am241Co60Co60[:, 1::])\n",
    "ln_Cs137Am241Co60Co60"
   ]
  },
  {
   "cell_type": "code",
   "execution_count": 48,
   "metadata": {},
   "outputs": [],
   "source": [
    "\n",
    "Massenabs_Cs137 = sp.stats.linregress(A5_DickeCs137Am241Co60Co60[:, 0], ln_Cs137Am241Co60Co60[:, 0]) #Cs-137\n",
    "Massenabs_Am214 = sp.stats.linregress(A5_DickeCs137Am241Co60Co60[:, 0], ln_Cs137Am241Co60Co60[:, 1]) #Am214\n",
    "Massenabs_Co60_1 = sp.stats.linregress(A5_DickeCs137Am241Co60Co60[:, 0], ln_Cs137Am241Co60Co60[:, 2]) #Co-60\n",
    "Massenabs_Co60_2 = sp.stats.linregress(A5_DickeCs137Am241Co60Co60[:, 0], ln_Cs137Am241Co60Co60[:, 3]) #Co-60\n",
    "#res.slope, res.intercept"
   ]
  },
  {
   "cell_type": "code",
   "execution_count": 49,
   "metadata": {},
   "outputs": [
    {
     "data": {
      "text/plain": [
       "(       0      1\n",
       " 0  0.191  0.506\n",
       " 1  0.568  0.059\n",
       " 2  0.121  2.592\n",
       " 3  0.088  2.834,\n",
       " array([[0.19080208, 0.50598837],\n",
       "        [0.56757896, 0.05864846],\n",
       "        [0.12139194, 2.59228517],\n",
       "        [0.08849606, 2.83355408]]),\n",
       " array([0.07338542, 0.2182996 , 0.04668921, 0.03403695]))"
      ]
     },
     "execution_count": 49,
     "metadata": {},
     "output_type": "execute_result"
    }
   ],
   "source": [
    "Massenabs = np.array([[Massenabs_Cs137.slope, Massenabs_Cs137.intercept],[Massenabs_Am214.slope, Massenabs_Am214.intercept], [Massenabs_Co60_1.slope, Massenabs_Co60_1.intercept], [Massenabs_Co60_2.slope, Massenabs_Co60_2.intercept]])\n",
    "Massenabs_DF = pd.DataFrame(np.round(Massenabs, 3))\n",
    "\n",
    "MAAAS = np.array([Massenabs_Cs137.slope, Massenabs_Am214.slope, Massenabs_Co60_1.slope, Massenabs_Co60_2.slope]) / 2.6\n",
    "Massenabs_DF = pd.DataFrame(np.round(Massenabs, 3))\n",
    "\n",
    "MAAS_DF = pd.DataFrame(np.transpose(np.round(MAAAS, 3)))\n",
    "\n",
    "Export_2 = pd.concat([ Massenabs_DF, MAAS_DF],axis = 1, sort = False )\n",
    "\n",
    "Export_2.to_csv('45.csv',index=False)\n",
    "\n",
    "Massenabs_DF, Massenabs, MAAAS"
   ]
  },
  {
   "cell_type": "code",
   "execution_count": 51,
   "metadata": {},
   "outputs": [
    {
     "data": {
      "image/png": "[encoded data removed]",
      "text/plain": [
       "<Figure size 648x504 with 1 Axes>"
      ]
     },
     "metadata": {
      "needs_background": "light"
     },
     "output_type": "display_data"
    }
   ],
   "source": [
    "x = np.linspace(0, 5.2, num=60)\n",
    "\n",
    "plt.rcParams['figure.figsize'] = [9, 7]\n",
    "plt.rcParams['figure.autolayout'] = True\n",
    "\n",
    "plt.plot(A5_DickeCs137Am241Co60Co60[:, 0], ln_Cs137Am241Co60Co60[:, 0], 'r*', label = 'Cs-137 bei $E_{\\gamma} = 662$ $keV$')\n",
    "plt.plot(A5_DickeCs137Am241Co60Co60[:, 0], ln_Cs137Am241Co60Co60[:, 1], 'g*', label = 'Am-241 bei $E_{\\gamma} = 59,5$ $keV$')\n",
    "plt.plot(A5_DickeCs137Am241Co60Co60[:, 0], ln_Cs137Am241Co60Co60[:, 2], 'c*', label = 'Co-60  bei $E_{\\gamma} = 1170$ $keV$')\n",
    "plt.plot(A5_DickeCs137Am241Co60Co60[:, 0], ln_Cs137Am241Co60Co60[:, 3], 'b*', label = 'Co-60  bei $E_{\\gamma} = 1330$ $keV$')\n",
    "\n",
    "plt.plot(x, Massenabs_Cs137.intercept + Massenabs_Cs137.slope*x, '-r', label = 'Regressionsgerade Cs-137  bei $E_{\\gamma} = 662$ $keV$')\n",
    "plt.plot(x, Massenabs_Am214.intercept + Massenabs_Am214.slope*x, '-g', label = 'Regressionsgerade Am-241 bei $E_{\\gamma} = 59,5$ $keV$')\n",
    "plt.plot(x, Massenabs_Co60_1.intercept + Massenabs_Co60_1.slope*x, '-c', label = 'Regressionsgerade Co-60 bei $E_{\\gamma} = 1170$ $keV$')\n",
    "plt.plot(x, Massenabs_Co60_2.intercept + Massenabs_Co60_2.slope*x, '-b', label = 'Regressionsgerade Co-60 bei $E_{\\gamma} = 1330$ $keV$')\n",
    "\n",
    "\n",
    "\n",
    "#plt.legend(fontsize = 12, loc = 'upper left', bbox_to_anchor = (0.09, -0.1), ncol = 2)\n",
    "plt.legend(fontsize = 12, loc = 'best', ncol = 2)\n",
    "\n",
    "#plt.text(10, 296, '$T_{1}(t) = 289$ $K + 38,2$ $K \\cdot [1 - exp(- 0,0344$ $min^{-1} \\cdot t )]$', fontsize = 12, color = 'r', rotation = 20) \n",
    "\n",
    "plt.xlabel('$d$ in $cm$', fontsize = 12)\n",
    "plt.ylabel('$ln(I_{0}/I)$ in $s^{-1}$', fontsize = 12)\n",
    "\n",
    "plt.xlim([0, 5.2])\n",
    "plt.ylim([0, 3.5])\n",
    "\n",
    "plt.savefig('Massenabsorptionskoeffizienten.png', dpi=600)"
   ]
  },
  {
   "cell_type": "code",
   "execution_count": null,
   "metadata": {},
   "outputs": [],
   "source": []
  }
 ],
 "metadata": {
  "interpreter": {
   "hash": "55abab3b77440d4202a55cb400c4d9677761b4692ce0e0f0186021dc6eb28758"
  },
  "kernelspec": {
   "display_name": "Python 3.9.7 ('base')",
   "language": "python",
   "name": "python3"
  },
  "language_info": {
   "codemirror_mode": {
    "name": "ipython",
    "version": 3
   },
   "file_extension": ".py",
   "mimetype": "text/x-python",
   "name": "python",
   "nbconvert_exporter": "python",
   "pygments_lexer": "ipython3",
   "version": "3.9.7"
  },
  "orig_nbformat": 4
 },
 "nbformat": 4,
 "nbformat_minor": 2
}
